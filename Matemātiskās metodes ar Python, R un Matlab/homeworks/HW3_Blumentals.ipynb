{
 "cells": [
  {
   "cell_type": "markdown",
   "id": "e2014f1e-ce6e-4c7e-8d4c-b18ad4ea0c99",
   "metadata": {},
   "source": [
    "# 3. mājas darbs"
   ]
  },
  {
   "cell_type": "markdown",
   "id": "62e3d424-0b49-4f00-8447-58cc228bff45",
   "metadata": {},
   "source": [
    "Importēt datus no failiem ”chick.txt” un ”chick_2.csv”, saglabāt tos mainīgajos chick\n",
    "un chick_2 Pandas DataFrame formātā un pārbaudīt mainīgo datu tipu un informāciju\n",
    "par datu tabulas kolonnām (izmantojot funkcija, kas parāda kolonnu indeksu, kolonnu\n",
    "nosaukumus, NULL vērtību skaitu un kolonnu datu tipu)"
   ]
  },
  {
   "cell_type": "code",
   "execution_count": 1,
   "id": "29479de7-ee1d-4942-b515-7a830036f894",
   "metadata": {},
   "outputs": [],
   "source": [
    "import os\n",
    "import pandas as pd"
   ]
  },
  {
   "cell_type": "code",
   "execution_count": 2,
   "id": "d4baee11-ac8f-4267-b284-ac7cd8714105",
   "metadata": {},
   "outputs": [],
   "source": [
    "# Import data from `chick.txt` and `chick_2.csv`\n",
    "data_dir = os.path.join(\"data\", \"HW3\")\n",
    "\n",
    "chick = pd.read_csv(os.path.join(data_dir, \"chick.txt\"), sep=\"-\")\n",
    "chick_2 = pd.read_csv(os.path.join(data_dir, \"chick_2.csv\"))"
   ]
  },
  {
   "cell_type": "code",
   "execution_count": 3,
   "id": "f6cd80c6-ca7d-4013-9937-56743da989eb",
   "metadata": {},
   "outputs": [
    {
     "name": "stdout",
     "output_type": "stream",
     "text": [
      "<class 'pandas.core.frame.DataFrame'>\n",
      "RangeIndex: 578 entries, 0 to 577\n",
      "Data columns (total 4 columns):\n",
      " #   Column  Non-Null Count  Dtype\n",
      "---  ------  --------------  -----\n",
      " 0   weight  578 non-null    int64\n",
      " 1   Time    578 non-null    int64\n",
      " 2   Chick   578 non-null    int64\n",
      " 3   Diet    578 non-null    int64\n",
      "dtypes: int64(4)\n",
      "memory usage: 18.2 KB\n",
      "None\n"
     ]
    }
   ],
   "source": [
    "print(chick.info())"
   ]
  },
  {
   "cell_type": "code",
   "execution_count": 4,
   "id": "a0a5bf50-5c83-4980-aff3-a31b1b3e2c40",
   "metadata": {},
   "outputs": [
    {
     "name": "stdout",
     "output_type": "stream",
     "text": [
      "<class 'pandas.core.frame.DataFrame'>\n",
      "RangeIndex: 578 entries, 0 to 577\n",
      "Data columns (total 5 columns):\n",
      " #   Column      Non-Null Count  Dtype\n",
      "---  ------      --------------  -----\n",
      " 0   Unnamed: 0  578 non-null    int64\n",
      " 1   weight      578 non-null    int64\n",
      " 2   Time        578 non-null    int64\n",
      " 3   Chick       578 non-null    int64\n",
      " 4   Diet        578 non-null    int64\n",
      "dtypes: int64(5)\n",
      "memory usage: 22.7 KB\n",
      "None\n"
     ]
    }
   ],
   "source": [
    "print(chick_2.info())"
   ]
  },
  {
   "cell_type": "markdown",
   "id": "42053f81-9bac-4f55-98ee-5e85c306dfd5",
   "metadata": {},
   "source": [
    "Importēt datus no failiem ”financial_statements.csv”, ”income_statements.csv” un ”register.csv”, saglabāt tos mainīgajos financial_statements, income_statements un register;"
   ]
  },
  {
   "cell_type": "code",
   "execution_count": 5,
   "id": "fc14df24-1060-4269-92c9-2cac200cf48f",
   "metadata": {},
   "outputs": [
    {
     "name": "stderr",
     "output_type": "stream",
     "text": [
      "C:\\Users\\TAABLED2\\AppData\\Local\\Temp\\ipykernel_17828\\2734709595.py:4: DtypeWarning: Columns (20) have mixed types. Specify dtype option on import or set low_memory=False.\n",
      "  register = pd.read_csv(os.path.join(data_dir, \"register.csv\"), sep=\";\", parse_dates=[\"registered\", \"terminated\"])\n"
     ]
    }
   ],
   "source": [
    "# Import data from other files\n",
    "financial_statements = pd.read_csv(os.path.join(data_dir, \"financial_statements.csv\"), sep=\";\", parse_dates=[\"year\"])\n",
    "income_statements = pd.read_csv(os.path.join(data_dir, \"income_statements.csv\"), sep=\";\")\n",
    "register = pd.read_csv(os.path.join(data_dir, \"register.csv\"), sep=\";\", parse_dates=[\"registered\", \"terminated\"])"
   ]
  },
  {
   "cell_type": "code",
   "execution_count": 6,
   "id": "03967b46-acb1-4feb-8c33-4c665b86945d",
   "metadata": {},
   "outputs": [
    {
     "name": "stdout",
     "output_type": "stream",
     "text": [
      "<class 'pandas.core.frame.DataFrame'>\n",
      "RangeIndex: 1556196 entries, 0 to 1556195\n",
      "Data columns (total 12 columns):\n",
      " #   Column                            Non-Null Count    Dtype         \n",
      "---  ------                            --------------    -----         \n",
      " 0   id                                1556196 non-null  int64         \n",
      " 1   file_id                           1556196 non-null  int64         \n",
      " 2   legal_entity_registration_number  1556196 non-null  int64         \n",
      " 3   source_schema                     1556196 non-null  object        \n",
      " 4   source_type                       930829 non-null   object        \n",
      " 5   year                              1556196 non-null  datetime64[ns]\n",
      " 6   year_started_on                   1556196 non-null  object        \n",
      " 7   year_ended_on                     1556196 non-null  object        \n",
      " 8   employees                         1556193 non-null  float64       \n",
      " 9   rounded_to_nearest                1556196 non-null  object        \n",
      " 10  currency                          1556196 non-null  object        \n",
      " 11  created_at                        1556196 non-null  object        \n",
      "dtypes: datetime64[ns](1), float64(1), int64(3), object(7)\n",
      "memory usage: 142.5+ MB\n"
     ]
    }
   ],
   "source": [
    "financial_statements.info()"
   ]
  },
  {
   "cell_type": "code",
   "execution_count": 7,
   "id": "f884e235-3bdd-4449-9543-d69ad0dd3265",
   "metadata": {},
   "outputs": [
    {
     "name": "stdout",
     "output_type": "stream",
     "text": [
      "<class 'pandas.core.frame.DataFrame'>\n",
      "RangeIndex: 1391200 entries, 0 to 1391199\n",
      "Data columns (total 28 columns):\n",
      " #   Column                                   Non-Null Count    Dtype  \n",
      "---  ------                                   --------------    -----  \n",
      " 0   statement_id                             1391200 non-null  int64  \n",
      " 1   file_id                                  1391200 non-null  int64  \n",
      " 2   net_turnover                             1391200 non-null  int64  \n",
      " 3   by_nature_inventory_change               147995 non-null   float64\n",
      " 4   by_nature_long_term_investment_expenses  147995 non-null   float64\n",
      " 5   by_nature_other_operating_revenues       147995 non-null   float64\n",
      " 6   by_nature_material_expenses              147995 non-null   float64\n",
      " 7   by_nature_labour_expenses                147995 non-null   float64\n",
      " 8   by_nature_depreciation_expenses          147995 non-null   float64\n",
      " 9   by_function_cost_of_goods_sold           1243205 non-null  float64\n",
      " 10  by_function_gross_profit                 1243205 non-null  float64\n",
      " 11  by_function_selling_expenses             1243205 non-null  float64\n",
      " 12  by_function_administrative_expenses      1243205 non-null  float64\n",
      " 13  by_function_other_operating_revenues     1243205 non-null  float64\n",
      " 14  other_operating_expenses                 1391200 non-null  int64  \n",
      " 15  equity_investment_earnings               1391200 non-null  int64  \n",
      " 16  other_long_term_investment_earnings      1391200 non-null  int64  \n",
      " 17  other_interest_revenues                  1391200 non-null  int64  \n",
      " 18  investment_fair_value_adjustments        1391200 non-null  int64  \n",
      " 19  interest_expenses                        1391200 non-null  int64  \n",
      " 20  extra_revenues                           590552 non-null   float64\n",
      " 21  extra_expenses                           590552 non-null   float64\n",
      " 22  income_before_income_taxes               1391200 non-null  int64  \n",
      " 23  provision_for_income_taxes               1391200 non-null  int64  \n",
      " 24  income_after_income_taxes                800648 non-null   float64\n",
      " 25  other_taxes                              590552 non-null   float64\n",
      " 26  extra_dividends                          1028478 non-null  float64\n",
      " 27  net_income                               1391200 non-null  int64  \n",
      "dtypes: float64(16), int64(12)\n",
      "memory usage: 297.2 MB\n"
     ]
    }
   ],
   "source": [
    "income_statements.info()"
   ]
  },
  {
   "cell_type": "code",
   "execution_count": 8,
   "id": "81c48dee-797c-4cf2-be7e-0a92439d79e3",
   "metadata": {},
   "outputs": [
    {
     "name": "stdout",
     "output_type": "stream",
     "text": [
      "<class 'pandas.core.frame.DataFrame'>\n",
      "RangeIndex: 454021 entries, 0 to 454020\n",
      "Data columns (total 21 columns):\n",
      " #   Column               Non-Null Count   Dtype         \n",
      "---  ------               --------------   -----         \n",
      " 0   regcode              454021 non-null  int64         \n",
      " 1   sepa                 344377 non-null  object        \n",
      " 2   name                 454019 non-null  object        \n",
      " 3   name_before_quotes   413225 non-null  object        \n",
      " 4   name_in_quotes       439901 non-null  object        \n",
      " 5   name_after_quotes    18621 non-null   object        \n",
      " 6   without_quotes       449824 non-null  float64       \n",
      " 7   regtype              454021 non-null  object        \n",
      " 8   regtype_text         454021 non-null  object        \n",
      " 9   type                 454021 non-null  object        \n",
      " 10  type_text            452618 non-null  object        \n",
      " 11  registered           453927 non-null  datetime64[ns]\n",
      " 12  terminated           241137 non-null  datetime64[ns]\n",
      " 13  closed               454021 non-null  object        \n",
      " 14  address              453529 non-null  object        \n",
      " 15  index                433841 non-null  float64       \n",
      " 16  addressid            454021 non-null  int64         \n",
      " 17  region               454021 non-null  int64         \n",
      " 18  city                 454020 non-null  float64       \n",
      " 19  atvk                 411196 non-null  float64       \n",
      " 20  reregistration_term  22 non-null      object        \n",
      "dtypes: datetime64[ns](2), float64(4), int64(3), object(12)\n",
      "memory usage: 72.7+ MB\n"
     ]
    }
   ],
   "source": [
    "register.info()"
   ]
  },
  {
   "cell_type": "markdown",
   "id": "fd9da9c6-fd90-43ba-a126-bf55e63afb24",
   "metadata": {},
   "source": [
    "Apvienot datus no income_statements un register tabulām vienā tabulā un saglabāt rezultātu\n",
    "mainīgajā ar nosaukumu data;"
   ]
  },
  {
   "cell_type": "code",
   "execution_count": 9,
   "id": "566f34eb-77b2-4977-95ca-d8b1db1ade42",
   "metadata": {},
   "outputs": [],
   "source": [
    "# Augment income statements with registration code from financial statements \n",
    "income_statements_with_regcode = pd.merge(income_statements, \n",
    "    financial_statements[[\"file_id\", \"legal_entity_registration_number\", \"year\"]], \n",
    "    on=\"file_id\", how=\"left\").rename(columns={\"legal_entity_registration_number\": \"regcode\"})"
   ]
  },
  {
   "cell_type": "code",
   "execution_count": 10,
   "id": "495010eb-ae1c-4154-bd3a-60bdbce0f42f",
   "metadata": {},
   "outputs": [
    {
     "name": "stdout",
     "output_type": "stream",
     "text": [
      "<class 'pandas.core.frame.DataFrame'>\n",
      "RangeIndex: 1391200 entries, 0 to 1391199\n",
      "Data columns (total 50 columns):\n",
      " #   Column                                   Non-Null Count    Dtype         \n",
      "---  ------                                   --------------    -----         \n",
      " 0   statement_id                             1391200 non-null  int64         \n",
      " 1   file_id                                  1391200 non-null  int64         \n",
      " 2   net_turnover                             1391200 non-null  int64         \n",
      " 3   by_nature_inventory_change               147995 non-null   float64       \n",
      " 4   by_nature_long_term_investment_expenses  147995 non-null   float64       \n",
      " 5   by_nature_other_operating_revenues       147995 non-null   float64       \n",
      " 6   by_nature_material_expenses              147995 non-null   float64       \n",
      " 7   by_nature_labour_expenses                147995 non-null   float64       \n",
      " 8   by_nature_depreciation_expenses          147995 non-null   float64       \n",
      " 9   by_function_cost_of_goods_sold           1243205 non-null  float64       \n",
      " 10  by_function_gross_profit                 1243205 non-null  float64       \n",
      " 11  by_function_selling_expenses             1243205 non-null  float64       \n",
      " 12  by_function_administrative_expenses      1243205 non-null  float64       \n",
      " 13  by_function_other_operating_revenues     1243205 non-null  float64       \n",
      " 14  other_operating_expenses                 1391200 non-null  int64         \n",
      " 15  equity_investment_earnings               1391200 non-null  int64         \n",
      " 16  other_long_term_investment_earnings      1391200 non-null  int64         \n",
      " 17  other_interest_revenues                  1391200 non-null  int64         \n",
      " 18  investment_fair_value_adjustments        1391200 non-null  int64         \n",
      " 19  interest_expenses                        1391200 non-null  int64         \n",
      " 20  extra_revenues                           590552 non-null   float64       \n",
      " 21  extra_expenses                           590552 non-null   float64       \n",
      " 22  income_before_income_taxes               1391200 non-null  int64         \n",
      " 23  provision_for_income_taxes               1391200 non-null  int64         \n",
      " 24  income_after_income_taxes                800648 non-null   float64       \n",
      " 25  other_taxes                              590552 non-null   float64       \n",
      " 26  extra_dividends                          1028478 non-null  float64       \n",
      " 27  net_income                               1391200 non-null  int64         \n",
      " 28  regcode                                  1391200 non-null  int64         \n",
      " 29  year                                     1391200 non-null  datetime64[ns]\n",
      " 30  sepa                                     1382570 non-null  object        \n",
      " 31  name                                     1391200 non-null  object        \n",
      " 32  name_before_quotes                       1331055 non-null  object        \n",
      " 33  name_in_quotes                           1390080 non-null  object        \n",
      " 34  name_after_quotes                        63242 non-null    object        \n",
      " 35  without_quotes                           1391200 non-null  float64       \n",
      " 36  regtype                                  1391200 non-null  object        \n",
      " 37  regtype_text                             1391200 non-null  object        \n",
      " 38  type                                     1391200 non-null  object        \n",
      " 39  type_text                                1391200 non-null  object        \n",
      " 40  registered                               1391200 non-null  datetime64[ns]\n",
      " 41  terminated                               342827 non-null   datetime64[ns]\n",
      " 42  closed                                   1391200 non-null  object        \n",
      " 43  address                                  1391200 non-null  object        \n",
      " 44  index                                    1389632 non-null  float64       \n",
      " 45  addressid                                1391200 non-null  int64         \n",
      " 46  region                                   1391200 non-null  int64         \n",
      " 47  city                                     1391200 non-null  float64       \n",
      " 48  atvk                                     1266732 non-null  float64       \n",
      " 49  reregistration_term                      0 non-null        object        \n",
      "dtypes: datetime64[ns](3), float64(20), int64(15), object(12)\n",
      "memory usage: 530.7+ MB\n"
     ]
    }
   ],
   "source": [
    "# Merge income_statements and register\n",
    "data = pd.merge(income_statements_with_regcode, register, on=\"regcode\", how=\"left\") \n",
    "data.info()"
   ]
  },
  {
   "cell_type": "markdown",
   "id": "0a579e60-0c40-4b3f-ae95-4d76d48a47f7",
   "metadata": {},
   "source": [
    "Izveidot tabulu ar nosaukumu data_rimi, kas satur ierakstus no tabulas data par visiem\n",
    "uzņēmumu, kuru nosaukums (name) satur burtu salikumu ”rimi” (burtu lielumam nav\n",
    "nozīme). Un jaunizveidotajā tabulā atstāt kolonnas ar nosaukumiem - name, year, registered, terminated, net_income, net_turnover un total_assets;"
   ]
  },
  {
   "cell_type": "markdown",
   "id": "a357d57c-e9f7-4656-b517-dba2158ae304",
   "metadata": {},
   "source": [
    "**Remark:** There is no column named total_assets, therefore the requirement to include it is ignored. After all, these are income statements, not balance sheets :-)"
   ]
  },
  {
   "cell_type": "code",
   "execution_count": 11,
   "id": "54ccd822-0fa5-41ba-8312-18c1a2f7f04b",
   "metadata": {},
   "outputs": [
    {
     "name": "stdout",
     "output_type": "stream",
     "text": [
      "<class 'pandas.core.frame.DataFrame'>\n",
      "Index: 103 entries, 15497 to 1362942\n",
      "Data columns (total 6 columns):\n",
      " #   Column        Non-Null Count  Dtype         \n",
      "---  ------        --------------  -----         \n",
      " 0   name          103 non-null    object        \n",
      " 1   year          103 non-null    datetime64[ns]\n",
      " 2   registered    103 non-null    datetime64[ns]\n",
      " 3   terminated    38 non-null     datetime64[ns]\n",
      " 4   net_income    103 non-null    int64         \n",
      " 5   net_turnover  103 non-null    int64         \n",
      "dtypes: datetime64[ns](3), int64(2), object(1)\n",
      "memory usage: 5.6+ KB\n"
     ]
    }
   ],
   "source": [
    "# Filter rows and select columns for \"rimi\"\n",
    "data_rimi = data[data[\"name\"].str.lower().str.contains(\"rimi\")]\n",
    "data_rimi = data_rimi[[\"name\", \"year\", \"registered\", \"terminated\", \"net_income\", \"net_turnover\"]]\n",
    "\n",
    "data_rimi.info()"
   ]
  },
  {
   "cell_type": "markdown",
   "id": "8ed7af26-f64f-4b1d-acef-9c6b7eacee30",
   "metadata": {},
   "source": [
    "Aprēķināt cik šādu uzņēmumu kopā ir un pa cik gadiem šīm kopmānijām ir pieejami\n",
    "finanšu atskaišu dati;"
   ]
  },
  {
   "cell_type": "code",
   "execution_count": 12,
   "id": "0dbfc684-7e2e-40eb-9d72-6df2c68be26c",
   "metadata": {},
   "outputs": [
    {
     "name": "stdout",
     "output_type": "stream",
     "text": [
      "Number of companies: 19\n",
      "Number of years: 13\n"
     ]
    }
   ],
   "source": [
    "# Calculate number of companies and number of years\n",
    "num_companies = data_rimi[\"name\"].nunique()\n",
    "num_years = data_rimi[\"year\"].nunique()\n",
    "print(f\"Number of companies: {num_companies}\")\n",
    "print(f\"Number of years: {num_years}\")"
   ]
  },
  {
   "cell_type": "markdown",
   "id": "e47b5b0c-4df8-4054-b57e-ebd5b1c03b8e",
   "metadata": {},
   "source": [
    "Aprēķināt katra uzņēmuma vidējo (balstoties uz visiem pieejamajiem gadiem), apgrozījumu\r\n",
    "(net_turnover), net_income (ieņēmumus) un total_assets (aktīvus) un rezultātus saglablāt\r\n",
    "tabulā ar nosaukumu data_rimi_sum;"
   ]
  },
  {
   "cell_type": "markdown",
   "id": "3a8016ea-c9d8-487e-aa4a-ee4ac470ef01",
   "metadata": {},
   "source": [
    "**Remark:** Again, there is no data for total assets."
   ]
  },
  {
   "cell_type": "code",
   "execution_count": 13,
   "id": "07ae4b9c-ffdd-41e2-b75c-4096d8c0a379",
   "metadata": {},
   "outputs": [],
   "source": [
    "# Calculate average values\n",
    "data_rimi_sum = data_rimi.groupby(\"name\").agg({\n",
    "    \"net_turnover\": \"mean\",\n",
    "    \"net_income\": \"mean\"\n",
    "}).reset_index()"
   ]
  },
  {
   "cell_type": "markdown",
   "id": "038bdf87-5012-47c3-82b3-92f22cf8f8b5",
   "metadata": {},
   "source": [
    "Sakārtot data_rimi_sum tabulu pēc uzņēmuma vidējiem ieņēmumiem (dilstošā secībā);"
   ]
  },
  {
   "cell_type": "code",
   "execution_count": 14,
   "id": "a81b0d53-bb7f-4d8d-9669-e0dbb9ca56ad",
   "metadata": {},
   "outputs": [
    {
     "name": "stdout",
     "output_type": "stream",
     "text": [
      "<class 'pandas.core.frame.DataFrame'>\n",
      "Index: 19 entries, 4 to 14\n",
      "Data columns (total 3 columns):\n",
      " #   Column        Non-Null Count  Dtype  \n",
      "---  ------        --------------  -----  \n",
      " 0   name          19 non-null     object \n",
      " 1   net_turnover  19 non-null     float64\n",
      " 2   net_income    19 non-null     float64\n",
      "dtypes: float64(2), object(1)\n",
      "memory usage: 608.0+ bytes\n"
     ]
    }
   ],
   "source": [
    "# Sort the data by net income\n",
    "data_rimi_sum = data_rimi_sum.sort_values(by=\"net_income\", ascending=False)\n",
    "data_rimi_sum.info()"
   ]
  },
  {
   "cell_type": "markdown",
   "id": "71dd9afc-854c-42a4-82f3-83a2ac6679fe",
   "metadata": {},
   "source": [
    "Saglabāt tabulu data_rimi_sum failā ar nosaukumu ”data_rimi_sum.csv”, kur faila formāts ir csv un kolonnu atdalītās ir ’_’"
   ]
  },
  {
   "cell_type": "code",
   "execution_count": 15,
   "id": "cb2cb4d0-87eb-486e-92b0-880f91033498",
   "metadata": {},
   "outputs": [],
   "source": [
    "# Save the DataFrame to a file\n",
    "data_rimi_sum.to_csv(os.path.join(data_dir, \"data_rimi_sum.csv\"), sep=\"_\", index=False)"
   ]
  }
 ],
 "metadata": {
  "kernelspec": {
   "display_name": "Python 3 (ipykernel)",
   "language": "python",
   "name": "python3"
  },
  "language_info": {
   "codemirror_mode": {
    "name": "ipython",
    "version": 3
   },
   "file_extension": ".py",
   "mimetype": "text/x-python",
   "name": "python",
   "nbconvert_exporter": "python",
   "pygments_lexer": "ipython3",
   "version": "3.11.4"
  }
 },
 "nbformat": 4,
 "nbformat_minor": 5
}
