{
 "cells": [
  {
   "cell_type": "markdown",
   "id": "95c4e153-d874-4551-b7f1-9125261e456c",
   "metadata": {},
   "source": [
    "# 4. mājas darbs"
   ]
  },
  {
   "cell_type": "markdown",
   "id": "1a4c4c2f-2752-417f-8c2a-b8e54eb4ad76",
   "metadata": {},
   "source": [
    "### 1. uzdevums"
   ]
  },
  {
   "cell_type": "markdown",
   "id": "28b3d2cc-a793-4846-9c7d-46d0e5035d43",
   "metadata": {},
   "source": [
    "Izveidot numpy masīvus ar 10000 un 100 normāli sadalītiem gadījuma skaitļiem (ar vidējo\n",
    "vērtību 50 un standartnovirzi 10) un saglabāt tos mainīgajos ar nosaukumiem r_1 un r_2."
   ]
  },
  {
   "cell_type": "code",
   "execution_count": null,
   "id": "5972c588-de71-435f-a60d-3384ce903479",
   "metadata": {},
   "outputs": [],
   "source": []
  },
  {
   "cell_type": "markdown",
   "id": "b50b1af4-7736-4abe-8b27-d00e069d7f58",
   "metadata": {},
   "source": [
    "***\n",
    "Izmantojot abus mainīgos uzzīmēt divus blakus esošus histogrammu grafikus. Histogramā\r\n",
    "jābūt attēlotiem 50 biniem, stabiņu krāsa ’grey’, stabiņu malas krāsa ’black’, stabiņu\r\n",
    "caurspīgīguma koeficients 0.75 un abiem apakšgrafikiem jābūt savam virsrakstam un asu\r\n",
    "nosaukumiem."
   ]
  },
  {
   "cell_type": "code",
   "execution_count": null,
   "id": "7e68ce46-2da0-45e6-9627-6e543b5c5ff7",
   "metadata": {},
   "outputs": [],
   "source": []
  },
  {
   "cell_type": "markdown",
   "id": "d4156381-2a3e-4775-86d3-f44b1f3d8951",
   "metadata": {},
   "source": [
    "***\n",
    "Papildus, abās histogrammās ar taisni jāiezīmē populācijas (sarkanā krāsā) un izlases (zaļā\r\n",
    "krāsā) vidējās vērtības."
   ]
  },
  {
   "cell_type": "code",
   "execution_count": null,
   "id": "7859884e-87d7-4be9-9834-23a055116974",
   "metadata": {},
   "outputs": [],
   "source": []
  },
  {
   "cell_type": "markdown",
   "id": "d15118c6-4f98-45d9-9649-175f7d348a15",
   "metadata": {},
   "source": [
    "### 2. uzdevums"
   ]
  },
  {
   "cell_type": "markdown",
   "id": "4663493f-29db-442c-9d49-490c35b5c654",
   "metadata": {},
   "source": [
    "Ielasīt iris datus un saglabāt tos mainīgajā iris."
   ]
  },
  {
   "cell_type": "code",
   "execution_count": null,
   "id": "0166d885-931d-45c9-9e19-395eb3e9abd8",
   "metadata": {},
   "outputs": [],
   "source": []
  },
  {
   "cell_type": "markdown",
   "id": "a6d61431-8100-4131-9687-b72441b75c85",
   "metadata": {},
   "source": [
    "***\n",
    "Izveidot funkciju, kas zīmē un saglabā (apakšfolderī ”img” ar nosaukumu ”2uzd.png”)\r\n",
    "punktveida grafiku (scatter plot). Funkcija ieejas parametri ir - grafika nosaukums, x ass\r\n",
    "nosaukums, y ass nosaukums, g (x ass vērtības), h (y ass vērtības), c (krāsas vērtību), s\r\n",
    "(izmērs), a (caurspīdīguma koeficientu - alpha) un attēla faila nosaukums. Funkcija zīmē\r\n",
    "grafiku un izmanto visus ieejas parametrus, attēlo krāsu joslu un attēlo horizontālu režģi."
   ]
  },
  {
   "cell_type": "code",
   "execution_count": null,
   "id": "a6e81a3b-da77-4e15-a776-9b59309edca6",
   "metadata": {},
   "outputs": [],
   "source": []
  },
  {
   "cell_type": "markdown",
   "id": "1c725b97-c456-4fa5-954c-61c74e7295b7",
   "metadata": {},
   "source": [
    "***\n",
    "Uzzīmēt iris datiem divus attēlus izmantojot iepriekš definēto funkciju:\r\n",
    "– x = SepalLengthCm, y = SepalWidthCm, krāsa = PetalLengthCm, izmērs = PetalWidthCm * 40, caurspīgīguma koeficients = .5\r\n",
    "– x = PetalLengthCm, y = PetalWidthCm, krāsa = SepalLengthCm, izmērs = SepalWidthCm * 30, caurspīgīguma koeficients = .6.6"
   ]
  },
  {
   "cell_type": "code",
   "execution_count": null,
   "id": "1084ba98-1e60-40de-b879-18b1496c7547",
   "metadata": {},
   "outputs": [],
   "source": []
  },
  {
   "cell_type": "markdown",
   "id": "ee1a8f8f-4830-4164-8290-5fccd27d4cf6",
   "metadata": {},
   "source": [
    "### 3. uzdevums"
   ]
  },
  {
   "cell_type": "markdown",
   "id": "7db8bd02-76df-4808-bbdd-abadb407a988",
   "metadata": {},
   "source": [
    "Ielasīt iris datus un saglabāt tos mainīgajā iris"
   ]
  },
  {
   "cell_type": "code",
   "execution_count": null,
   "id": "0177174a-4428-4381-8fdc-aa56acad791a",
   "metadata": {},
   "outputs": [],
   "source": []
  },
  {
   "cell_type": "markdown",
   "id": "bde166d3-2dac-472d-a447-60f42858d77f",
   "metadata": {},
   "source": [
    "***\n",
    "Uzzīmēt pāru grafiku režģi iris datiem kur dati grafikos ir sagrupēti pa sugām (Species).\r\n",
    "Pāru grafiks sastāv no visu četru mērījumu punktu grafikiem (scatter plot) un režģadiagonālēē atrodas sadalījuma grafiki."
   ]
  },
  {
   "cell_type": "code",
   "execution_count": null,
   "id": "734ac70a-a058-4975-abf5-5e7207fe42aa",
   "metadata": {},
   "outputs": [],
   "source": []
  },
  {
   "cell_type": "markdown",
   "id": "5ae34593-f279-440f-8eaa-a7ca21b189ab",
   "metadata": {},
   "source": [
    "### 4. uzdevums"
   ]
  },
  {
   "cell_type": "markdown",
   "id": "ddd69589-fa4e-4d29-b801-4cee32c1fd1a",
   "metadata": {},
   "source": [
    "Izgriezt no R programmēšanas valodas logo (izmantot Rlogo.png failu) burtu R, tā, lai\r\n",
    "brīvā vieta no katras puses tālākā punkta uz visām pusēm būtu 50px un fona krāsa būtu\r\n",
    "vienādā ar krāsas kodu #98fb98."
   ]
  },
  {
   "cell_type": "code",
   "execution_count": null,
   "id": "4f4c21f3-bd1d-44e8-99bb-b5ba378241f6",
   "metadata": {},
   "outputs": [],
   "source": []
  }
 ],
 "metadata": {
  "kernelspec": {
   "display_name": "Python 3 (ipykernel)",
   "language": "python",
   "name": "python3"
  },
  "language_info": {
   "codemirror_mode": {
    "name": "ipython",
    "version": 3
   },
   "file_extension": ".py",
   "mimetype": "text/x-python",
   "name": "python",
   "nbconvert_exporter": "python",
   "pygments_lexer": "ipython3",
   "version": "3.11.4"
  }
 },
 "nbformat": 4,
 "nbformat_minor": 5
}
