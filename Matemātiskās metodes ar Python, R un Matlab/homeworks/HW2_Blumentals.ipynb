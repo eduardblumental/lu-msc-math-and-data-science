{
 "cells": [
  {
   "cell_type": "markdown",
   "id": "3041d21b-ff5f-474c-a404-93fc6597ccd3",
   "metadata": {},
   "source": [
    "# 2. mājas darbs"
   ]
  },
  {
   "cell_type": "markdown",
   "id": "637314a4-d0e3-42d3-a653-87ede0ba8c04",
   "metadata": {},
   "source": [
    "### 1. Saraksti"
   ]
  },
  {
   "cell_type": "code",
   "execution_count": 1,
   "id": "e83a99b7-bbf4-42e2-a7d3-640d4c10715a",
   "metadata": {},
   "outputs": [
    {
     "name": "stdout",
     "output_type": "stream",
     "text": [
      "Pirmais simbols: b\n",
      "Pēdējais simbols: 8\n"
     ]
    }
   ],
   "source": [
    "# Izveidot sarakstu x ar savu studenta numuru\n",
    "x = ['b', 0, 1, 6, 0, 0, 8]\n",
    "\n",
    "# Izdrukāt pirmo un pēdējo simbolu\n",
    "print(f\"Pirmais simbols: {x[0]}\")\n",
    "print(f\"Pēdējais simbols: {x[-1]}\")"
   ]
  },
  {
   "cell_type": "code",
   "execution_count": 2,
   "id": "292a36ad-23de-462c-b685-e9ecc3135e49",
   "metadata": {},
   "outputs": [
    {
     "name": "stdout",
     "output_type": "stream",
     "text": [
      "Saraksts y: [9, 0, 1, 6, 0, 0, 8]\n"
     ]
    }
   ],
   "source": [
    "# Izveidot x saraksta kopiju y un pievienot sākumā jaunu elementu\n",
    "y = x.copy()\n",
    "y.insert(0, 9)\n",
    "\n",
    "# Izņemt no saraksta y visus elementus kas nav cipari\n",
    "y = [i for i in y if isinstance(i, int)]\n",
    "print(f\"Saraksts y: {y}\")"
   ]
  },
  {
   "cell_type": "markdown",
   "id": "dc82c52b-45ea-4e46-95cc-455089a1bcc2",
   "metadata": {},
   "source": [
    "### 2. Numpy"
   ]
  },
  {
   "cell_type": "code",
   "execution_count": 3,
   "id": "6a607884-1615-4a7e-a29a-b2104f555c40",
   "metadata": {},
   "outputs": [],
   "source": [
    "import numpy as np"
   ]
  },
  {
   "cell_type": "code",
   "execution_count": 4,
   "id": "79cd4ec1-922d-4954-925b-8e1f33f7dbd4",
   "metadata": {},
   "outputs": [],
   "source": [
    "# Izveidot numpy masīvu ar studenta numura cipariem\n",
    "arr = np.array([0, 1, 6, 0, 0, 8])"
   ]
  },
  {
   "cell_type": "code",
   "execution_count": 5,
   "id": "674d7941-09c2-483e-9920-0cf583780b59",
   "metadata": {},
   "outputs": [
    {
     "name": "stdout",
     "output_type": "stream",
     "text": [
      "Masīvs ar summu: [ 0  1  6  0  0  8 15]\n"
     ]
    }
   ],
   "source": [
    "# Pievienot masīva arr beigās elementu\n",
    "arr = np.append(arr, sum(arr))\n",
    "print(f\"Masīvs ar summu: {arr}\")"
   ]
  },
  {
   "cell_type": "markdown",
   "id": "89e91acf-7e00-42c4-9550-06ea5f671441",
   "metadata": {},
   "source": [
    "**Pieņēmums:** masīvu nevajag kārtot."
   ]
  },
  {
   "cell_type": "code",
   "execution_count": 6,
   "id": "110944a8-f311-4570-8e19-261ddce6c924",
   "metadata": {},
   "outputs": [
    {
     "name": "stdout",
     "output_type": "stream",
     "text": [
      "Vidējais elements: 0\n"
     ]
    }
   ],
   "source": [
    "# Izdrukāt vidējo masīva arr elementu\n",
    "if len(arr) % 2 == 0:\n",
    "    print(f\"Vidējie elementi: {arr[len(arr) // 2 - 1 : len(arr) // 2 + 1]}\")\n",
    "else:\n",
    "    print(f\"Vidējais elements: {arr[len(arr) // 2]}\")"
   ]
  },
  {
   "cell_type": "code",
   "execution_count": 7,
   "id": "30f691cb-d04c-4cbe-a22f-fae1ed729d50",
   "metadata": {},
   "outputs": [
    {
     "name": "stdout",
     "output_type": "stream",
     "text": [
      "Masīva izmērs: (7,)\n"
     ]
    }
   ],
   "source": [
    "# Izdrukāt masīva arr izmērus\n",
    "print(f\"Masīva izmērs: {arr.shape}\")"
   ]
  },
  {
   "cell_type": "markdown",
   "id": "4639cc85-b07a-4ece-be7f-2dff331ff30e",
   "metadata": {},
   "source": [
    "**Pieņēmums**: otro kolonnu aizpildam ar nullem."
   ]
  },
  {
   "cell_type": "code",
   "execution_count": 8,
   "id": "35fcd848-d324-4601-ae94-79aca6fcd725",
   "metadata": {},
   "outputs": [
    {
     "name": "stdout",
     "output_type": "stream",
     "text": [
      "Masīvs ar 2 kolonnām: [[ 0  0]\n",
      " [ 1  0]\n",
      " [ 6  0]\n",
      " [ 0  0]\n",
      " [ 0  0]\n",
      " [ 8  0]\n",
      " [15  0]]\n"
     ]
    }
   ],
   "source": [
    "# Pārmainīt masīva arr izmēru\n",
    "arr_reshaped = np.column_stack((arr, np.zeros_like(arr)))\n",
    "print(f\"Masīvs ar 2 kolonnām: {arr_reshaped}\")"
   ]
  },
  {
   "cell_type": "code",
   "execution_count": 9,
   "id": "9b4d8077-8d90-405c-8687-64356b7e8e19",
   "metadata": {},
   "outputs": [],
   "source": [
    "# Izveidot divus numpy masīvus\n",
    "arr1 = np.array([1, 2, 3, 4])\n",
    "arr2 = np.array([5, 6, 7, 8])"
   ]
  },
  {
   "cell_type": "code",
   "execution_count": 10,
   "id": "6ec0d409-f2f3-4320-823b-703f5395ecfe",
   "metadata": {},
   "outputs": [
    {
     "name": "stdout",
     "output_type": "stream",
     "text": [
      "Rezultāts: [ 6  8 10 12]\n"
     ]
    }
   ],
   "source": [
    "# Saskaitīt arr1 un arr2 masīvu vērtības\n",
    "rez = arr1 + arr2\n",
    "print(f\"Rezultāts: {rez}\")"
   ]
  },
  {
   "cell_type": "code",
   "execution_count": 11,
   "id": "9a8e6912-3ce0-4bca-bfe9-3dab274bfef8",
   "metadata": {},
   "outputs": [
    {
     "name": "stdout",
     "output_type": "stream",
     "text": [
      "Vidējā vērtība: 9.0\n"
     ]
    }
   ],
   "source": [
    "# Aprēķināt un izdrukāt rez masīva saturošo skaitļu vidējo vērtību\n",
    "print(f\"Vidējā vērtība: {np.mean(rez)}\")"
   ]
  },
  {
   "cell_type": "code",
   "execution_count": 12,
   "id": "bf375880-9751-437a-b09e-bbcdebb07624",
   "metadata": {},
   "outputs": [
    {
     "name": "stdout",
     "output_type": "stream",
     "text": [
      "Vektora garums: 18.05547008526779\n"
     ]
    }
   ],
   "source": [
    "# Aprēķināt masīva (vektora) arr garumu\n",
    "print(f\"Vektora garums: {np.linalg.norm(arr)}\")"
   ]
  },
  {
   "cell_type": "markdown",
   "id": "0d264d96-e62b-434c-8515-d737b693730e",
   "metadata": {},
   "source": [
    "### 3. Lineārā algebra 1"
   ]
  },
  {
   "cell_type": "code",
   "execution_count": 13,
   "id": "49e94ab8-6bb2-4a6b-9617-ac6ab292080a",
   "metadata": {},
   "outputs": [],
   "source": [
    "# Izveidot no jauna numpy masīvu ar studenta numura cipariem\n",
    "arr = np.array([0, 1, 6, 0, 0, 8])\n",
    "\n",
    "# Izveidot numpy vienības matricu\n",
    "vienibas_matrica = np.eye(len(arr))"
   ]
  },
  {
   "cell_type": "code",
   "execution_count": 14,
   "id": "f430d918-004c-41e2-aa69-40ec6f4eb6e7",
   "metadata": {},
   "outputs": [
    {
     "name": "stdout",
     "output_type": "stream",
     "text": [
      "Matrica: [[0 1 6 0 0 8]\n",
      " [0 1 6 0 0 8]\n",
      " [0 1 6 0 0 8]\n",
      " [0 1 6 0 0 8]\n",
      " [0 1 6 0 0 8]\n",
      " [0 1 6 0 0 8]]\n"
     ]
    }
   ],
   "source": [
    "# Izveidot numpy matricu ar studenta numura cipariem\n",
    "mat = np.tile(arr, (len(arr), 1))\n",
    "print(f\"Matrica: {mat}\")"
   ]
  },
  {
   "cell_type": "code",
   "execution_count": 15,
   "id": "76e1d56c-2cfc-43ab-8c2a-79c0b6778127",
   "metadata": {},
   "outputs": [
    {
     "name": "stdout",
     "output_type": "stream",
     "text": [
      "Determinants: 0.0\n"
     ]
    }
   ],
   "source": [
    "# Aprēķināt matricas determinantu\n",
    "determinant = np.linalg.det(mat)\n",
    "print(f\"Determinants: {determinant}\")"
   ]
  },
  {
   "cell_type": "code",
   "execution_count": 16,
   "id": "d3ff9d99-bbeb-4217-a615-ce6ad0a884dd",
   "metadata": {},
   "outputs": [
    {
     "name": "stdout",
     "output_type": "stream",
     "text": [
      "Reizinājuma rezultāts: [[0. 1. 6. 0. 0. 8.]\n",
      " [0. 1. 6. 0. 0. 8.]\n",
      " [0. 1. 6. 0. 0. 8.]\n",
      " [0. 1. 6. 0. 0. 8.]\n",
      " [0. 1. 6. 0. 0. 8.]\n",
      " [0. 1. 6. 0. 0. 8.]]\n"
     ]
    }
   ],
   "source": [
    "# Veikt matricu reizinājumu\n",
    "product = np.matmul(mat, vienibas_matrica)\n",
    "print(f\"Reizinājuma rezultāts: {product}\")"
   ]
  },
  {
   "cell_type": "markdown",
   "id": "dd9c3336-d094-46c3-bf94-4cf4f0282891",
   "metadata": {},
   "source": [
    "### 4. Lineārā algebra 2"
   ]
  },
  {
   "cell_type": "code",
   "execution_count": 17,
   "id": "57a2c8ff-c0d8-4706-a5e8-8e84a51bdb04",
   "metadata": {},
   "outputs": [],
   "source": [
    "from scipy.linalg import eig"
   ]
  },
  {
   "cell_type": "code",
   "execution_count": 18,
   "id": "b5d2e6c7-72d0-4c7e-acde-5de8a61924bc",
   "metadata": {},
   "outputs": [],
   "source": [
    "# Izveidot jaunu neatkarīgu mainīgo\n",
    "ev = mat.copy()"
   ]
  },
  {
   "cell_type": "code",
   "execution_count": 19,
   "id": "e12a6eb8-6a13-4a27-8d8d-eb6c2bbb35c8",
   "metadata": {},
   "outputs": [],
   "source": [
    "# Nomainīt masīva ev otrās rindas pēdējās kolonnas vērtību\n",
    "ev[1,-1] = 9"
   ]
  },
  {
   "cell_type": "code",
   "execution_count": 20,
   "id": "3aeb8370-682c-40dc-8294-f5d584ebb83a",
   "metadata": {},
   "outputs": [
    {
     "name": "stdout",
     "output_type": "stream",
     "text": [
      "Īpašvērtības: [ 0.        +0.j  0.        +0.j  0.        +0.j -0.06637298+0.j\n",
      " 15.06637298+0.j  0.        +0.j]\n",
      "Īpašvektori: [[ 1.00000000e+000  0.00000000e+000  0.00000000e+000  7.02099623e-002\n",
      "   4.03660807e-001  5.77350269e-001]\n",
      " [ 0.00000000e+000  0.00000000e+000  0.00000000e+000 -9.87599517e-001\n",
      "   4.30452976e-001  3.16786038e-276]\n",
      " [ 0.00000000e+000  0.00000000e+000  0.00000000e+000  7.02099623e-002\n",
      "   4.03660807e-001 -5.27976729e-277]\n",
      " [ 0.00000000e+000  1.00000000e+000  0.00000000e+000  7.02099623e-002\n",
      "   4.03660807e-001  5.77350269e-001]\n",
      " [ 0.00000000e+000  0.00000000e+000  1.00000000e+000  7.02099623e-002\n",
      "   4.03660807e-001  5.77350269e-001]\n",
      " [ 0.00000000e+000  0.00000000e+000  0.00000000e+000  7.02099623e-002\n",
      "   4.03660807e-001  3.27444051e-291]]\n"
     ]
    }
   ],
   "source": [
    "# Aprēķināt matricas ev īpašvērtības un īpašvektorus\n",
    "eigenvalues, eigenvectors = eig(ev)\n",
    "\n",
    "print(f\"Īpašvērtības: {eigenvalues}\")\n",
    "print(f\"Īpašvektori: {eigenvectors}\")"
   ]
  }
 ],
 "metadata": {
  "kernelspec": {
   "display_name": "Python 3 (ipykernel)",
   "language": "python",
   "name": "python3"
  },
  "language_info": {
   "codemirror_mode": {
    "name": "ipython",
    "version": 3
   },
   "file_extension": ".py",
   "mimetype": "text/x-python",
   "name": "python",
   "nbconvert_exporter": "python",
   "pygments_lexer": "ipython3",
   "version": "3.11.4"
  }
 },
 "nbformat": 4,
 "nbformat_minor": 5
}
