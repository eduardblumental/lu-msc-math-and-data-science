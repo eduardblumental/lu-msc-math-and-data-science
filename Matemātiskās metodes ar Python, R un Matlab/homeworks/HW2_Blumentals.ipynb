{
 "cells": [
  {
   "cell_type": "code",
   "execution_count": 1,
   "id": "9600fd0f-db29-4fef-8614-127e7133c152",
   "metadata": {},
   "outputs": [
    {
     "name": "stdout",
     "output_type": "stream",
     "text": [
      "Hello Artis!\n"
     ]
    }
   ],
   "source": [
    "print(\"Hello Artis!\")"
   ]
  },
  {
   "cell_type": "code",
   "execution_count": null,
   "id": "5b0f9206-11a7-44a3-b3b5-b93286dfd591",
   "metadata": {},
   "outputs": [],
   "source": []
  }
 ],
 "metadata": {
  "kernelspec": {
   "display_name": "Python 3 (ipykernel)",
   "language": "python",
   "name": "python3"
  },
  "language_info": {
   "codemirror_mode": {
    "name": "ipython",
    "version": 3
   },
   "file_extension": ".py",
   "mimetype": "text/x-python",
   "name": "python",
   "nbconvert_exporter": "python",
   "pygments_lexer": "ipython3",
   "version": "3.11.4"
  }
 },
 "nbformat": 4,
 "nbformat_minor": 5
}
